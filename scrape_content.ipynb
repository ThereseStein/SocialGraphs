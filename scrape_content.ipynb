{
 "cells": [
  {
   "cell_type": "code",
   "execution_count": null,
   "metadata": {},
   "outputs": [],
   "source": [
    "import requests\n",
    "import json\n",
    "import time\n",
    "from bs4 import BeautifulSoup"
   ]
  },
  {
   "cell_type": "code",
   "execution_count": null,
   "metadata": {},
   "outputs": [],
   "source": [
    "base_url = \"https://kurser.dtu.dk/course/\"\n",
    "cookies = {\n",
    "    'ASP.NET_SessionId' : \"n52vuz1hozdfnzzspkunozvi\",\n",
    "    '{DTUCoursesPublicLanguage}' : 'en-GB'\n",
    "}"
   ]
  },
  {
   "cell_type": "code",
   "execution_count": null,
   "metadata": {},
   "outputs": [],
   "source": [
    "with open('department_names.json', 'r') as file:\n",
    "    departments = json.load(file)\n",
    "departments_keys = list(departments.keys())"
   ]
  },
  {
   "cell_type": "code",
   "execution_count": null,
   "metadata": {},
   "outputs": [],
   "source": [
    "valid_courses = {}\n",
    "for dep in departments_keys:\n",
    "    for i in range(0,1000):\n",
    "        course_num = f\"{dep}{i:03}\"\n",
    "        course_url = base_url + course_num\n",
    "        response = requests.get(course_url, cookies=cookies)\n",
    "        soup = BeautifulSoup(response.content, 'html.parser')\n",
    "        title = soup.title.string\n",
    "        if title is None:\n",
    "            continue\n",
    "            \n",
    "        print(title)\n",
    "        valid_courses[course_num] = response.text  "
   ]
  },
  {
   "cell_type": "code",
   "execution_count": null,
   "metadata": {},
   "outputs": [],
   "source": [
    "# save dict as json\n",
    "with open('valid_courses.json', 'w') as file:\n",
    "    json.dump(valid_courses, file)"
   ]
  }
 ],
 "metadata": {
  "kernelspec": {
   "display_name": "viz",
   "language": "python",
   "name": "python3"
  },
  "language_info": {
   "codemirror_mode": {
    "name": "ipython",
    "version": 3
   },
   "file_extension": ".py",
   "mimetype": "text/x-python",
   "name": "python",
   "nbconvert_exporter": "python",
   "pygments_lexer": "ipython3",
   "version": "3.9.19"
  }
 },
 "nbformat": 4,
 "nbformat_minor": 2
}
